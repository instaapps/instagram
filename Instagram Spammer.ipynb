{
 "cells": [
  {
   "cell_type": "code",
   "execution_count": 1,
   "metadata": {},
   "outputs": [
    {
     "data": {
      "text/html": [
       "<div>\n",
       "<style scoped>\n",
       "    .dataframe tbody tr th:only-of-type {\n",
       "        vertical-align: middle;\n",
       "    }\n",
       "\n",
       "    .dataframe tbody tr th {\n",
       "        vertical-align: top;\n",
       "    }\n",
       "\n",
       "    .dataframe thead th {\n",
       "        text-align: right;\n",
       "    }\n",
       "</style>\n",
       "<table border=\"1\" class=\"dataframe\">\n",
       "  <thead>\n",
       "    <tr style=\"text-align: right;\">\n",
       "      <th></th>\n",
       "      <th>edge_followed_by</th>\n",
       "      <th>edge_follow</th>\n",
       "      <th>username_length</th>\n",
       "      <th>username_has_number</th>\n",
       "      <th>full_name_has_number</th>\n",
       "      <th>full_name_length</th>\n",
       "      <th>is_private</th>\n",
       "      <th>is_joined_recently</th>\n",
       "      <th>has_channel</th>\n",
       "      <th>is_business_account</th>\n",
       "      <th>has_guides</th>\n",
       "      <th>has_external_url</th>\n",
       "      <th>is_fake</th>\n",
       "    </tr>\n",
       "  </thead>\n",
       "  <tbody>\n",
       "    <tr>\n",
       "      <th>0</th>\n",
       "      <td>0.001</td>\n",
       "      <td>0.257</td>\n",
       "      <td>13</td>\n",
       "      <td>1</td>\n",
       "      <td>1</td>\n",
       "      <td>13</td>\n",
       "      <td>0</td>\n",
       "      <td>0</td>\n",
       "      <td>0</td>\n",
       "      <td>0</td>\n",
       "      <td>0</td>\n",
       "      <td>0</td>\n",
       "      <td>1</td>\n",
       "    </tr>\n",
       "    <tr>\n",
       "      <th>1</th>\n",
       "      <td>0.000</td>\n",
       "      <td>0.958</td>\n",
       "      <td>9</td>\n",
       "      <td>1</td>\n",
       "      <td>0</td>\n",
       "      <td>0</td>\n",
       "      <td>0</td>\n",
       "      <td>1</td>\n",
       "      <td>0</td>\n",
       "      <td>0</td>\n",
       "      <td>0</td>\n",
       "      <td>0</td>\n",
       "      <td>1</td>\n",
       "    </tr>\n",
       "    <tr>\n",
       "      <th>2</th>\n",
       "      <td>0.000</td>\n",
       "      <td>0.253</td>\n",
       "      <td>12</td>\n",
       "      <td>0</td>\n",
       "      <td>0</td>\n",
       "      <td>0</td>\n",
       "      <td>0</td>\n",
       "      <td>0</td>\n",
       "      <td>0</td>\n",
       "      <td>0</td>\n",
       "      <td>0</td>\n",
       "      <td>0</td>\n",
       "      <td>1</td>\n",
       "    </tr>\n",
       "    <tr>\n",
       "      <th>3</th>\n",
       "      <td>0.000</td>\n",
       "      <td>0.977</td>\n",
       "      <td>10</td>\n",
       "      <td>1</td>\n",
       "      <td>0</td>\n",
       "      <td>0</td>\n",
       "      <td>0</td>\n",
       "      <td>0</td>\n",
       "      <td>0</td>\n",
       "      <td>0</td>\n",
       "      <td>0</td>\n",
       "      <td>0</td>\n",
       "      <td>1</td>\n",
       "    </tr>\n",
       "    <tr>\n",
       "      <th>4</th>\n",
       "      <td>0.000</td>\n",
       "      <td>0.321</td>\n",
       "      <td>11</td>\n",
       "      <td>0</td>\n",
       "      <td>0</td>\n",
       "      <td>11</td>\n",
       "      <td>1</td>\n",
       "      <td>0</td>\n",
       "      <td>0</td>\n",
       "      <td>0</td>\n",
       "      <td>0</td>\n",
       "      <td>0</td>\n",
       "      <td>1</td>\n",
       "    </tr>\n",
       "    <tr>\n",
       "      <th>...</th>\n",
       "      <td>...</td>\n",
       "      <td>...</td>\n",
       "      <td>...</td>\n",
       "      <td>...</td>\n",
       "      <td>...</td>\n",
       "      <td>...</td>\n",
       "      <td>...</td>\n",
       "      <td>...</td>\n",
       "      <td>...</td>\n",
       "      <td>...</td>\n",
       "      <td>...</td>\n",
       "      <td>...</td>\n",
       "      <td>...</td>\n",
       "    </tr>\n",
       "    <tr>\n",
       "      <th>780</th>\n",
       "      <td>0.000</td>\n",
       "      <td>0.020</td>\n",
       "      <td>9</td>\n",
       "      <td>0</td>\n",
       "      <td>0</td>\n",
       "      <td>14</td>\n",
       "      <td>1</td>\n",
       "      <td>0</td>\n",
       "      <td>0</td>\n",
       "      <td>0</td>\n",
       "      <td>0</td>\n",
       "      <td>0</td>\n",
       "      <td>0</td>\n",
       "    </tr>\n",
       "    <tr>\n",
       "      <th>781</th>\n",
       "      <td>0.000</td>\n",
       "      <td>0.081</td>\n",
       "      <td>18</td>\n",
       "      <td>1</td>\n",
       "      <td>0</td>\n",
       "      <td>15</td>\n",
       "      <td>1</td>\n",
       "      <td>0</td>\n",
       "      <td>0</td>\n",
       "      <td>0</td>\n",
       "      <td>0</td>\n",
       "      <td>0</td>\n",
       "      <td>0</td>\n",
       "    </tr>\n",
       "    <tr>\n",
       "      <th>782</th>\n",
       "      <td>0.000</td>\n",
       "      <td>0.115</td>\n",
       "      <td>9</td>\n",
       "      <td>0</td>\n",
       "      <td>0</td>\n",
       "      <td>8</td>\n",
       "      <td>1</td>\n",
       "      <td>0</td>\n",
       "      <td>0</td>\n",
       "      <td>0</td>\n",
       "      <td>0</td>\n",
       "      <td>0</td>\n",
       "      <td>0</td>\n",
       "    </tr>\n",
       "    <tr>\n",
       "      <th>783</th>\n",
       "      <td>0.000</td>\n",
       "      <td>0.049</td>\n",
       "      <td>12</td>\n",
       "      <td>0</td>\n",
       "      <td>0</td>\n",
       "      <td>28</td>\n",
       "      <td>1</td>\n",
       "      <td>0</td>\n",
       "      <td>0</td>\n",
       "      <td>0</td>\n",
       "      <td>0</td>\n",
       "      <td>0</td>\n",
       "      <td>0</td>\n",
       "    </tr>\n",
       "    <tr>\n",
       "      <th>784</th>\n",
       "      <td>0.000</td>\n",
       "      <td>0.096</td>\n",
       "      <td>11</td>\n",
       "      <td>0</td>\n",
       "      <td>0</td>\n",
       "      <td>0</td>\n",
       "      <td>1</td>\n",
       "      <td>0</td>\n",
       "      <td>0</td>\n",
       "      <td>0</td>\n",
       "      <td>0</td>\n",
       "      <td>0</td>\n",
       "      <td>0</td>\n",
       "    </tr>\n",
       "  </tbody>\n",
       "</table>\n",
       "<p>785 rows × 13 columns</p>\n",
       "</div>"
      ],
      "text/plain": [
       "     edge_followed_by  edge_follow  username_length  username_has_number  \\\n",
       "0               0.001        0.257               13                    1   \n",
       "1               0.000        0.958                9                    1   \n",
       "2               0.000        0.253               12                    0   \n",
       "3               0.000        0.977               10                    1   \n",
       "4               0.000        0.321               11                    0   \n",
       "..                ...          ...              ...                  ...   \n",
       "780             0.000        0.020                9                    0   \n",
       "781             0.000        0.081               18                    1   \n",
       "782             0.000        0.115                9                    0   \n",
       "783             0.000        0.049               12                    0   \n",
       "784             0.000        0.096               11                    0   \n",
       "\n",
       "     full_name_has_number  full_name_length  is_private  is_joined_recently  \\\n",
       "0                       1                13           0                   0   \n",
       "1                       0                 0           0                   1   \n",
       "2                       0                 0           0                   0   \n",
       "3                       0                 0           0                   0   \n",
       "4                       0                11           1                   0   \n",
       "..                    ...               ...         ...                 ...   \n",
       "780                     0                14           1                   0   \n",
       "781                     0                15           1                   0   \n",
       "782                     0                 8           1                   0   \n",
       "783                     0                28           1                   0   \n",
       "784                     0                 0           1                   0   \n",
       "\n",
       "     has_channel  is_business_account  has_guides  has_external_url  is_fake  \n",
       "0              0                    0           0                 0        1  \n",
       "1              0                    0           0                 0        1  \n",
       "2              0                    0           0                 0        1  \n",
       "3              0                    0           0                 0        1  \n",
       "4              0                    0           0                 0        1  \n",
       "..           ...                  ...         ...               ...      ...  \n",
       "780            0                    0           0                 0        0  \n",
       "781            0                    0           0                 0        0  \n",
       "782            0                    0           0                 0        0  \n",
       "783            0                    0           0                 0        0  \n",
       "784            0                    0           0                 0        0  \n",
       "\n",
       "[785 rows x 13 columns]"
      ]
     },
     "execution_count": 1,
     "metadata": {},
     "output_type": "execute_result"
    }
   ],
   "source": [
    "import pandas as pd\n",
    "df=pd.read_csv(\"Instagram Spammer.csv\")\n",
    "df"
   ]
  },
  {
   "cell_type": "code",
   "execution_count": 2,
   "metadata": {},
   "outputs": [
    {
     "data": {
      "text/html": [
       "<div>\n",
       "<style scoped>\n",
       "    .dataframe tbody tr th:only-of-type {\n",
       "        vertical-align: middle;\n",
       "    }\n",
       "\n",
       "    .dataframe tbody tr th {\n",
       "        vertical-align: top;\n",
       "    }\n",
       "\n",
       "    .dataframe thead th {\n",
       "        text-align: right;\n",
       "    }\n",
       "</style>\n",
       "<table border=\"1\" class=\"dataframe\">\n",
       "  <thead>\n",
       "    <tr style=\"text-align: right;\">\n",
       "      <th></th>\n",
       "      <th>edge_followed_by</th>\n",
       "      <th>edge_follow</th>\n",
       "      <th>username_length</th>\n",
       "      <th>username_has_number</th>\n",
       "      <th>full_name_has_number</th>\n",
       "      <th>full_name_length</th>\n",
       "      <th>is_private</th>\n",
       "      <th>is_joined_recently</th>\n",
       "      <th>has_channel</th>\n",
       "      <th>is_business_account</th>\n",
       "      <th>has_guides</th>\n",
       "      <th>has_external_url</th>\n",
       "      <th>is_fake</th>\n",
       "    </tr>\n",
       "  </thead>\n",
       "  <tbody>\n",
       "    <tr>\n",
       "      <th>count</th>\n",
       "      <td>785.000000</td>\n",
       "      <td>785.000000</td>\n",
       "      <td>785.000000</td>\n",
       "      <td>785.000000</td>\n",
       "      <td>785.000000</td>\n",
       "      <td>785.000000</td>\n",
       "      <td>785.000000</td>\n",
       "      <td>785.000000</td>\n",
       "      <td>785.0</td>\n",
       "      <td>785.000000</td>\n",
       "      <td>785.000000</td>\n",
       "      <td>785.000000</td>\n",
       "      <td>785.000000</td>\n",
       "    </tr>\n",
       "    <tr>\n",
       "      <th>mean</th>\n",
       "      <td>0.002223</td>\n",
       "      <td>0.401606</td>\n",
       "      <td>11.630573</td>\n",
       "      <td>0.644586</td>\n",
       "      <td>0.109554</td>\n",
       "      <td>6.129936</td>\n",
       "      <td>0.184713</td>\n",
       "      <td>0.361783</td>\n",
       "      <td>0.0</td>\n",
       "      <td>0.073885</td>\n",
       "      <td>0.001274</td>\n",
       "      <td>0.062420</td>\n",
       "      <td>0.881529</td>\n",
       "    </tr>\n",
       "    <tr>\n",
       "      <th>std</th>\n",
       "      <td>0.036105</td>\n",
       "      <td>0.293845</td>\n",
       "      <td>3.284329</td>\n",
       "      <td>0.478944</td>\n",
       "      <td>0.312532</td>\n",
       "      <td>6.943903</td>\n",
       "      <td>0.388312</td>\n",
       "      <td>0.480823</td>\n",
       "      <td>0.0</td>\n",
       "      <td>0.261751</td>\n",
       "      <td>0.035692</td>\n",
       "      <td>0.242072</td>\n",
       "      <td>0.323371</td>\n",
       "    </tr>\n",
       "    <tr>\n",
       "      <th>min</th>\n",
       "      <td>0.000000</td>\n",
       "      <td>0.000000</td>\n",
       "      <td>5.000000</td>\n",
       "      <td>0.000000</td>\n",
       "      <td>0.000000</td>\n",
       "      <td>0.000000</td>\n",
       "      <td>0.000000</td>\n",
       "      <td>0.000000</td>\n",
       "      <td>0.0</td>\n",
       "      <td>0.000000</td>\n",
       "      <td>0.000000</td>\n",
       "      <td>0.000000</td>\n",
       "      <td>0.000000</td>\n",
       "    </tr>\n",
       "    <tr>\n",
       "      <th>25%</th>\n",
       "      <td>0.000000</td>\n",
       "      <td>0.135000</td>\n",
       "      <td>9.000000</td>\n",
       "      <td>0.000000</td>\n",
       "      <td>0.000000</td>\n",
       "      <td>0.000000</td>\n",
       "      <td>0.000000</td>\n",
       "      <td>0.000000</td>\n",
       "      <td>0.0</td>\n",
       "      <td>0.000000</td>\n",
       "      <td>0.000000</td>\n",
       "      <td>0.000000</td>\n",
       "      <td>1.000000</td>\n",
       "    </tr>\n",
       "    <tr>\n",
       "      <th>50%</th>\n",
       "      <td>0.000000</td>\n",
       "      <td>0.336000</td>\n",
       "      <td>11.000000</td>\n",
       "      <td>1.000000</td>\n",
       "      <td>0.000000</td>\n",
       "      <td>5.000000</td>\n",
       "      <td>0.000000</td>\n",
       "      <td>0.000000</td>\n",
       "      <td>0.0</td>\n",
       "      <td>0.000000</td>\n",
       "      <td>0.000000</td>\n",
       "      <td>0.000000</td>\n",
       "      <td>1.000000</td>\n",
       "    </tr>\n",
       "    <tr>\n",
       "      <th>75%</th>\n",
       "      <td>0.000000</td>\n",
       "      <td>0.623000</td>\n",
       "      <td>13.000000</td>\n",
       "      <td>1.000000</td>\n",
       "      <td>0.000000</td>\n",
       "      <td>11.000000</td>\n",
       "      <td>0.000000</td>\n",
       "      <td>1.000000</td>\n",
       "      <td>0.0</td>\n",
       "      <td>0.000000</td>\n",
       "      <td>0.000000</td>\n",
       "      <td>0.000000</td>\n",
       "      <td>1.000000</td>\n",
       "    </tr>\n",
       "    <tr>\n",
       "      <th>max</th>\n",
       "      <td>1.000000</td>\n",
       "      <td>1.000000</td>\n",
       "      <td>26.000000</td>\n",
       "      <td>1.000000</td>\n",
       "      <td>1.000000</td>\n",
       "      <td>30.000000</td>\n",
       "      <td>1.000000</td>\n",
       "      <td>1.000000</td>\n",
       "      <td>0.0</td>\n",
       "      <td>1.000000</td>\n",
       "      <td>1.000000</td>\n",
       "      <td>1.000000</td>\n",
       "      <td>1.000000</td>\n",
       "    </tr>\n",
       "  </tbody>\n",
       "</table>\n",
       "</div>"
      ],
      "text/plain": [
       "       edge_followed_by  edge_follow  username_length  username_has_number  \\\n",
       "count        785.000000   785.000000       785.000000           785.000000   \n",
       "mean           0.002223     0.401606        11.630573             0.644586   \n",
       "std            0.036105     0.293845         3.284329             0.478944   \n",
       "min            0.000000     0.000000         5.000000             0.000000   \n",
       "25%            0.000000     0.135000         9.000000             0.000000   \n",
       "50%            0.000000     0.336000        11.000000             1.000000   \n",
       "75%            0.000000     0.623000        13.000000             1.000000   \n",
       "max            1.000000     1.000000        26.000000             1.000000   \n",
       "\n",
       "       full_name_has_number  full_name_length  is_private  is_joined_recently  \\\n",
       "count            785.000000        785.000000  785.000000          785.000000   \n",
       "mean               0.109554          6.129936    0.184713            0.361783   \n",
       "std                0.312532          6.943903    0.388312            0.480823   \n",
       "min                0.000000          0.000000    0.000000            0.000000   \n",
       "25%                0.000000          0.000000    0.000000            0.000000   \n",
       "50%                0.000000          5.000000    0.000000            0.000000   \n",
       "75%                0.000000         11.000000    0.000000            1.000000   \n",
       "max                1.000000         30.000000    1.000000            1.000000   \n",
       "\n",
       "       has_channel  is_business_account  has_guides  has_external_url  \\\n",
       "count        785.0           785.000000  785.000000        785.000000   \n",
       "mean           0.0             0.073885    0.001274          0.062420   \n",
       "std            0.0             0.261751    0.035692          0.242072   \n",
       "min            0.0             0.000000    0.000000          0.000000   \n",
       "25%            0.0             0.000000    0.000000          0.000000   \n",
       "50%            0.0             0.000000    0.000000          0.000000   \n",
       "75%            0.0             0.000000    0.000000          0.000000   \n",
       "max            0.0             1.000000    1.000000          1.000000   \n",
       "\n",
       "          is_fake  \n",
       "count  785.000000  \n",
       "mean     0.881529  \n",
       "std      0.323371  \n",
       "min      0.000000  \n",
       "25%      1.000000  \n",
       "50%      1.000000  \n",
       "75%      1.000000  \n",
       "max      1.000000  "
      ]
     },
     "execution_count": 2,
     "metadata": {},
     "output_type": "execute_result"
    }
   ],
   "source": [
    "dd=df.describe()\n",
    "dd"
   ]
  },
  {
   "cell_type": "code",
   "execution_count": 3,
   "metadata": {},
   "outputs": [
    {
     "data": {
      "text/plain": [
       "edge_followed_by        0\n",
       "edge_follow             0\n",
       "username_length         0\n",
       "username_has_number     0\n",
       "full_name_has_number    0\n",
       "full_name_length        0\n",
       "is_private              0\n",
       "is_joined_recently      0\n",
       "has_channel             0\n",
       "is_business_account     0\n",
       "has_guides              0\n",
       "has_external_url        0\n",
       "is_fake                 0\n",
       "dtype: int64"
      ]
     },
     "execution_count": 3,
     "metadata": {},
     "output_type": "execute_result"
    }
   ],
   "source": [
    "df.isnull().sum()"
   ]
  },
  {
   "cell_type": "code",
   "execution_count": 4,
   "metadata": {},
   "outputs": [
    {
     "data": {
      "text/plain": [
       "edge_followed_by        float64\n",
       "edge_follow             float64\n",
       "username_length           int64\n",
       "username_has_number       int64\n",
       "full_name_has_number      int64\n",
       "full_name_length          int64\n",
       "is_private                int64\n",
       "is_joined_recently        int64\n",
       "has_channel               int64\n",
       "is_business_account       int64\n",
       "has_guides                int64\n",
       "has_external_url          int64\n",
       "is_fake                   int64\n",
       "dtype: object"
      ]
     },
     "execution_count": 4,
     "metadata": {},
     "output_type": "execute_result"
    }
   ],
   "source": [
    "df.dtypes"
   ]
  },
  {
   "cell_type": "code",
   "execution_count": 5,
   "metadata": {},
   "outputs": [
    {
     "data": {
      "text/plain": [
       "<AxesSubplot:>"
      ]
     },
     "execution_count": 5,
     "metadata": {},
     "output_type": "execute_result"
    },
    {
     "data": {
      "image/png": "[encoded data removed]",
      "text/plain": [
       "<Figure size 432x288 with 2 Axes>"
      ]
     },
     "metadata": {
      "needs_background": "light"
     },
     "output_type": "display_data"
    }
   ],
   "source": [
    "import seaborn as sns\n",
    "sns.heatmap(df.corr(),annot=True)"
   ]
  },
  {
   "cell_type": "code",
   "execution_count": 6,
   "metadata": {},
   "outputs": [
    {
     "data": {
      "text/plain": [
       "array([[1.00e-03, 2.57e-01, 1.30e+01, ..., 0.00e+00, 0.00e+00, 0.00e+00],\n",
       "       [0.00e+00, 9.58e-01, 9.00e+00, ..., 0.00e+00, 0.00e+00, 0.00e+00],\n",
       "       [0.00e+00, 2.53e-01, 1.20e+01, ..., 0.00e+00, 0.00e+00, 0.00e+00],\n",
       "       ...,\n",
       "       [0.00e+00, 1.15e-01, 9.00e+00, ..., 0.00e+00, 0.00e+00, 0.00e+00],\n",
       "       [0.00e+00, 4.90e-02, 1.20e+01, ..., 0.00e+00, 0.00e+00, 0.00e+00],\n",
       "       [0.00e+00, 9.60e-02, 1.10e+01, ..., 0.00e+00, 0.00e+00, 0.00e+00]])"
      ]
     },
     "execution_count": 6,
     "metadata": {},
     "output_type": "execute_result"
    }
   ],
   "source": [
    "X=df.iloc[:,:-1]\n",
    "X=X.to_numpy()\n",
    "X"
   ]
  },
  {
   "cell_type": "code",
   "execution_count": 7,
   "metadata": {},
   "outputs": [
    {
     "data": {
      "text/plain": [
       "0      1\n",
       "1      1\n",
       "2      1\n",
       "3      1\n",
       "4      1\n",
       "      ..\n",
       "780    0\n",
       "781    0\n",
       "782    0\n",
       "783    0\n",
       "784    0\n",
       "Name: is_fake, Length: 785, dtype: int64"
      ]
     },
     "execution_count": 7,
     "metadata": {},
     "output_type": "execute_result"
    }
   ],
   "source": [
    "y=df.iloc[:,-1]\n",
    "y"
   ]
  },
  {
   "cell_type": "code",
   "execution_count": 8,
   "metadata": {},
   "outputs": [
    {
     "data": {
      "text/plain": [
       "1    692\n",
       "0     93\n",
       "Name: is_fake, dtype: int64"
      ]
     },
     "execution_count": 8,
     "metadata": {},
     "output_type": "execute_result"
    }
   ],
   "source": [
    "y.value_counts()"
   ]
  },
  {
   "cell_type": "code",
   "execution_count": 9,
   "metadata": {
    "scrolled": false
   },
   "outputs": [
    {
     "data": {
      "text/plain": [
       "1    692\n",
       "0    692\n",
       "Name: is_fake, dtype: int64"
      ]
     },
     "execution_count": 9,
     "metadata": {},
     "output_type": "execute_result"
    }
   ],
   "source": [
    "from imblearn.over_sampling import SMOTE\n",
    "oversample = SMOTE()\n",
    "X1, y1 = oversample.fit_resample(X, y)\n",
    "y1.value_counts()"
   ]
  },
  {
   "cell_type": "code",
   "execution_count": 10,
   "metadata": {},
   "outputs": [
    {
     "name": "stdout",
     "output_type": "stream",
     "text": [
      "(138, 12) (1246, 12)\n"
     ]
    }
   ],
   "source": [
    "from sklearn.model_selection import train_test_split\n",
    "X_train, X_test, y_train, y_test = train_test_split(X1, y1, test_size=0.90)\n",
    "print(X_train.shape,X_test.shape)"
   ]
  },
  {
   "cell_type": "code",
   "execution_count": 15,
   "metadata": {},
   "outputs": [
    {
     "name": "stdout",
     "output_type": "stream",
     "text": [
      "[[612  10]\n",
      " [ 45 579]]\n"
     ]
    }
   ],
   "source": [
    "from sklearn.metrics import confusion_matrix\n",
    "print(confusion_matrix(y_test,y_pred))"
   ]
  },
  {
   "cell_type": "code",
   "execution_count": 16,
   "metadata": {},
   "outputs": [
    {
     "name": "stdout",
     "output_type": "stream",
     "text": [
      "              precision    recall  f1-score   support\n",
      "\n",
      "           0       0.93      0.98      0.96       622\n",
      "           1       0.98      0.93      0.95       624\n",
      "\n",
      "    accuracy                           0.96      1246\n",
      "   macro avg       0.96      0.96      0.96      1246\n",
      "weighted avg       0.96      0.96      0.96      1246\n",
      "\n"
     ]
    }
   ],
   "source": [
    "from sklearn.metrics import classification_report\n",
    "print(classification_report(y_test,y_pred))"
   ]
  },
  {
   "cell_type": "code",
   "execution_count": 11,
   "metadata": {},
   "outputs": [
    {
     "name": "stdout",
     "output_type": "stream",
     "text": [
      "SVM\n",
      "[[502 120]\n",
      " [234 390]]\n",
      "              precision    recall  f1-score   support\n",
      "\n",
      "           0       0.68      0.81      0.74       622\n",
      "           1       0.76      0.62      0.69       624\n",
      "\n",
      "    accuracy                           0.72      1246\n",
      "   macro avg       0.72      0.72      0.71      1246\n",
      "weighted avg       0.72      0.72      0.71      1246\n",
      "\n",
      "----------------------------------------------------\n",
      "KNN\n",
      "[[538  84]\n",
      " [172 452]]\n",
      "              precision    recall  f1-score   support\n",
      "\n",
      "           0       0.76      0.86      0.81       622\n",
      "           1       0.84      0.72      0.78       624\n",
      "\n",
      "    accuracy                           0.79      1246\n",
      "   macro avg       0.80      0.79      0.79      1246\n",
      "weighted avg       0.80      0.79      0.79      1246\n",
      "\n",
      "----------------------------------------------------\n",
      "NB\n",
      "[[622   0]\n",
      " [307 317]]\n",
      "              precision    recall  f1-score   support\n",
      "\n",
      "           0       0.67      1.00      0.80       622\n",
      "           1       1.00      0.51      0.67       624\n",
      "\n",
      "    accuracy                           0.75      1246\n",
      "   macro avg       0.83      0.75      0.74      1246\n",
      "weighted avg       0.84      0.75      0.74      1246\n",
      "\n",
      "----------------------------------------------------\n",
      "DT\n",
      "[[561  61]\n",
      " [ 96 528]]\n",
      "              precision    recall  f1-score   support\n",
      "\n",
      "           0       0.85      0.90      0.88       622\n",
      "           1       0.90      0.85      0.87       624\n",
      "\n",
      "    accuracy                           0.87      1246\n",
      "   macro avg       0.88      0.87      0.87      1246\n",
      "weighted avg       0.88      0.87      0.87      1246\n",
      "\n",
      "----------------------------------------------------\n",
      "RF\n",
      "[[604  18]\n",
      " [ 40 584]]\n",
      "              precision    recall  f1-score   support\n",
      "\n",
      "           0       0.94      0.97      0.95       622\n",
      "           1       0.97      0.94      0.95       624\n",
      "\n",
      "    accuracy                           0.95      1246\n",
      "   macro avg       0.95      0.95      0.95      1246\n",
      "weighted avg       0.95      0.95      0.95      1246\n",
      "\n",
      "----------------------------------------------------\n",
      "ET\n",
      "[[612  10]\n",
      " [ 45 579]]\n",
      "              precision    recall  f1-score   support\n",
      "\n",
      "           0       0.93      0.98      0.96       622\n",
      "           1       0.98      0.93      0.95       624\n",
      "\n",
      "    accuracy                           0.96      1246\n",
      "   macro avg       0.96      0.96      0.96      1246\n",
      "weighted avg       0.96      0.96      0.96      1246\n",
      "\n",
      "----------------------------------------------------\n"
     ]
    }
   ],
   "source": [
    "from sklearn.svm import SVC\n",
    "from sklearn.neighbors import KNeighborsClassifier\n",
    "from sklearn.naive_bayes import GaussianNB\n",
    "from sklearn.tree import DecisionTreeClassifier\n",
    "from sklearn.ensemble import RandomForestClassifier\n",
    "from sklearn.ensemble import ExtraTreesClassifier\n",
    "from sklearn.metrics import confusion_matrix,classification_report\n",
    "models=[SVC(),KNeighborsClassifier(),GaussianNB(),DecisionTreeClassifier(),RandomForestClassifier(),ExtraTreesClassifier()]\n",
    "names=[\"SVM\",\"KNN\",\"NB\",\"DT\",\"RF\",\"ET\"]\n",
    "modelstr=[]\n",
    "for name,model in zip(names,models):\n",
    "    print(name)\n",
    "    model.fit(X_train,y_train)\n",
    "    y_pred=model.predict(X_test)\n",
    "    print(confusion_matrix(y_test,y_pred))\n",
    "    print(classification_report(y_test,y_pred))\n",
    "    print(\"----------------------------------------------------\")\n",
    "    modelstr.append(model)"
   ]
  },
  {
   "cell_type": "code",
   "execution_count": 12,
   "metadata": {},
   "outputs": [
    {
     "name": "stdout",
     "output_type": "stream",
     "text": [
      "SVM\n",
      "[0]\n",
      "KNN\n",
      "[0]\n",
      "NB\n",
      "[1]\n",
      "DT\n",
      "[1]\n",
      "RF\n",
      "[1]\n",
      "ET\n",
      "[1]\n"
     ]
    }
   ],
   "source": [
    "for name,model in zip(names,modelstr):\n",
    "    print(name)\n",
    "    print(model.predict([X1[100]]))"
   ]
  },
  {
   "cell_type": "code",
   "execution_count": 13,
   "metadata": {},
   "outputs": [
    {
     "data": {
      "text/plain": [
       "1"
      ]
     },
     "execution_count": 13,
     "metadata": {},
     "output_type": "execute_result"
    }
   ],
   "source": [
    "y1[100]"
   ]
  },
  {
   "cell_type": "code",
   "execution_count": 14,
   "metadata": {},
   "outputs": [],
   "source": [
    "import pickle\n",
    "pickle.dump(modelstr,open(\"models.pkl\",\"wb\"))"
   ]
  },
  {
   "cell_type": "code",
   "execution_count": null,
   "metadata": {},
   "outputs": [],
   "source": []
  }
 ],
 "metadata": {
  "kernelspec": {
   "display_name": "Python 3 (ipykernel)",
   "language": "python",
   "name": "python3"
  },
  "language_info": {
   "codemirror_mode": {
    "name": "ipython",
    "version": 3
   },
   "file_extension": ".py",
   "mimetype": "text/x-python",
   "name": "python",
   "nbconvert_exporter": "python",
   "pygments_lexer": "ipython3",
   "version": "3.9.12"
  }
 },
 "nbformat": 4,
 "nbformat_minor": 4
}
